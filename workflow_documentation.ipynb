{
 "cells": [
  {
   "cell_type": "code",
   "execution_count": 1,
   "metadata": {},
   "outputs": [],
   "source": [
    "#Use movie datasets that contain movieID, userID, and user rating for each movie.  \n",
    "#Use Surprise package to load dataset and specify Reader's rating_scale.\n",
    "#Use SVD() to fit the trainset and test the testset to find the prediction ratings, and then use cross_validate to evaluate RMSE, MAE\n",
    "#Produce top N recommendation generator for a particular useID (use the predicted ratings of movies that aren't seen by that user, \n",
    "#select top N movies with highest ratings.) Note that the true test set is the data with userID, movieID, but no rating. \n",
    "\n"
   ]
  },
  {
   "cell_type": "code",
   "execution_count": null,
   "metadata": {},
   "outputs": [],
   "source": []
  }
 ],
 "metadata": {
  "kernelspec": {
   "display_name": "Python 3",
   "language": "python",
   "name": "python3"
  },
  "language_info": {
   "codemirror_mode": {
    "name": "ipython",
    "version": 3
   },
   "file_extension": ".py",
   "mimetype": "text/x-python",
   "name": "python",
   "nbconvert_exporter": "python",
   "pygments_lexer": "ipython3",
   "version": "3.10.5"
  },
  "orig_nbformat": 4
 },
 "nbformat": 4,
 "nbformat_minor": 2
}
